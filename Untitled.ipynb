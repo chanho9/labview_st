{
 "cells": [
  {
   "cell_type": "code",
   "execution_count": 27,
   "metadata": {},
   "outputs": [],
   "source": [
    "import itertools\n",
    "import math\n",
    "import numpy as np"
   ]
  },
  {
   "cell_type": "code",
   "execution_count": 28,
   "metadata": {},
   "outputs": [
    {
     "name": "stdout",
     "output_type": "stream",
     "text": [
      "1\n",
      "1\n",
      "2\n"
     ]
    }
   ],
   "source": [
    "import itertools\n",
    "mylist = [1,2,3]\n",
    "mypermuatation =  itertools.combinations(mylist,2)\n",
    "for i in mypermuatation:\n",
    "    print(i[0])"
   ]
  },
  {
   "cell_type": "code",
   "execution_count": 29,
   "metadata": {},
   "outputs": [],
   "source": [
    "for i in mypermuatation:\n",
    "    print(i)"
   ]
  },
  {
   "cell_type": "code",
   "execution_count": 89,
   "metadata": {},
   "outputs": [],
   "source": [
    "def makeFactorsMatrix(name, factors):\n",
    "        ii = 0;\n",
    "        numF = len(factors);\n",
    "        numFm = 1+ numF + numF + int(math.factorial(numF)/2);   #1, x1^2, x1, x1*x2\n",
    "        matrixF = np.zeros(numFm);\n",
    "        matrixN = [\"\" for _ in range(numFm)]\n",
    "        matrixF[0] = 1; # const\n",
    "        matrixN[0] = \"const\";\n",
    "        combinationF = itertools.combinations(factors,2);\n",
    "        combinationN = itertools.combinations(name,2);\n",
    "        for i in range(numF):\n",
    "                matrixF[1+i] = factors[i];\n",
    "                matrixN[1+i] = name[i];\n",
    "                matrixF[numF+1+i] = factors[i]**2;\n",
    "                matrixN[numF+1+i] = name[i] + \"^2\";\n",
    "        for i in combinationF:\n",
    "                matrixF[numF*2+1+ii] = i[0] * i[1];\n",
    "                ii+=1;\n",
    "        ii=0;\n",
    "        for i in combinationN:\n",
    "                matrixN[numF*2+1+ii] = i[0] + \"*\" + i[1];\n",
    "                ii+=1;        \n",
    "        #return matrixF.tolist()\n",
    "        return (matrixF, matrixN)"
   ]
  },
  {
   "cell_type": "code",
   "execution_count": 90,
   "metadata": {},
   "outputs": [
    {
     "data": {
      "text/plain": [
       "(array([1., 1., 2., 3., 1., 4., 9., 2., 3., 6.]),\n",
       " ['const', '1', '2', '3', '1^2', '2^2', '3^2', '1*2', '1*3', '2*3'])"
      ]
     },
     "execution_count": 90,
     "metadata": {},
     "output_type": "execute_result"
    }
   ],
   "source": [
    "makeFactorsMatrix([\"1\",\"2\",\"3\"],[1,2,3])"
   ]
  },
  {
   "cell_type": "code",
   "execution_count": 82,
   "metadata": {},
   "outputs": [
    {
     "data": {
      "text/plain": [
       "['2']"
      ]
     },
     "execution_count": 82,
     "metadata": {},
     "output_type": "execute_result"
    }
   ],
   "source": [
    "a=[]\n",
    "a.append(\"2\")\n",
    "a\n"
   ]
  },
  {
   "cell_type": "code",
   "execution_count": null,
   "metadata": {},
   "outputs": [],
   "source": []
  },
  {
   "cell_type": "code",
   "execution_count": null,
   "metadata": {},
   "outputs": [],
   "source": []
  }
 ],
 "metadata": {
  "kernelspec": {
   "display_name": "Python 3",
   "language": "python",
   "name": "python3"
  },
  "language_info": {
   "codemirror_mode": {
    "name": "ipython",
    "version": 3
   },
   "file_extension": ".py",
   "mimetype": "text/x-python",
   "name": "python",
   "nbconvert_exporter": "python",
   "pygments_lexer": "ipython3",
   "version": "3.6.8"
  }
 },
 "nbformat": 4,
 "nbformat_minor": 2
}
